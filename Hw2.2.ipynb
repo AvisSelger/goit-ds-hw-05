{
 "cells": [
  {
   "cell_type": "code",
   "execution_count": null,
   "metadata": {},
   "outputs": [],
   "source": [
    "import pandas as pd\n",
    "import numpy as np\n",
    "\n",
    "file_path = '2017_jun_final.csv' \n",
    "df = pd.read_csv(file_path)\n",
    "\n",
    "print(\"Перші рядки таблиці:\")\n",
    "print(df.head())\n",
    "\n",
    "print(\"\\nРозмір таблиці:\")\n",
    "print(df.shape)\n",
    "\n",
    "print(\"\\nТипи всіх стовпців:\")\n",
    "print(df.dtypes)\n"
   ]
  },
  {
   "cell_type": "code",
   "execution_count": null,
   "metadata": {},
   "outputs": [],
   "source": [
    "missing_percentage = df.isnull().sum() / df.shape[0] * 100\n",
    "print(\"\\nЧастка пропусків у кожній колонці:\")\n",
    "print(missing_percentage)\n"
   ]
  },
  {
   "cell_type": "code",
   "execution_count": null,
   "metadata": {},
   "outputs": [],
   "source": [
    "cols_to_keep = ['Мова програмування']\n",
    "df_cleaned = df.dropna(axis=1, how='any', subset=df.columns.difference(cols_to_keep))\n",
    "\n",
    "missing_percentage_cleaned = df_cleaned.isnull().sum() / df_cleaned.shape[0] * 100\n",
    "print(\"\\nЧастка пропусків у кожній колонці після очищення:\")\n",
    "print(missing_percentage_cleaned)\n"
   ]
  },
  {
   "cell_type": "code",
   "execution_count": null,
   "metadata": {},
   "outputs": [],
   "source": [
    "df_dropped = df.dropna()\n",
    "\n",
    "print(\"\\nНовий розмір таблиці після видалення рядків з пропусками:\")\n",
    "print(df_dropped.shape)\n"
   ]
  },
  {
   "cell_type": "code",
   "execution_count": null,
   "metadata": {},
   "outputs": [],
   "source": [
    "\n",
    "python_data = df_dropped[df_dropped['Мова програмування'].str.contains('Python', na=False)]\n",
    "\n",
    "print(\"\\nРозмір таблиці python_data:\")\n",
    "print(python_data.shape)\n"
   ]
  },
  {
   "cell_type": "code",
   "execution_count": null,
   "metadata": {},
   "outputs": [],
   "source": [
    "grouped_data = python_data.groupby('Посада')\n",
    "\n",
    "salary_stats = grouped_data['Зарплата в місяць'].agg(['min', 'max']).reset_index()\n",
    "print(\"\\nСтатистика зарплат по посадах:\")\n",
    "print(salary_stats)\n"
   ]
  },
  {
   "cell_type": "code",
   "execution_count": null,
   "metadata": {},
   "outputs": [],
   "source": [
    "def fill_avg_salary(row):\n",
    "    return (row['min'] + row['max']) / 2\n",
    "\n",
    "salary_stats['avg'] = salary_stats.apply(fill_avg_salary, axis=1)\n",
    "\n",
    "print(\"\\nОписова статистика для стовпчика 'avg':\")\n",
    "print(salary_stats['avg'].describe())\n"
   ]
  },
  {
   "cell_type": "code",
   "execution_count": null,
   "metadata": {},
   "outputs": [],
   "source": [
    "output_file_path = 'salary_stats.csv'\n",
    "salary_stats.to_csv(output_file_path, index=False)\n",
    "print(f\"\\nТаблиця збережена у файл: {output_file_path}\")\n"
   ]
  }
 ],
 "metadata": {
  "language_info": {
   "name": "python"
  }
 },
 "nbformat": 4,
 "nbformat_minor": 2
}
