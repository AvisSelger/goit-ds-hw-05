{
 "cells": [
  {
   "cell_type": "code",
   "execution_count": null,
   "metadata": {},
   "outputs": [],
   "source": [
    "import pandas as pd\n",
    "import numpy as np\n",
    "import matplotlib.pyplot as plt\n",
    "\n",
    "url = 'URL_З_ТАБЛИЦЕЮ'\n",
    "tables = pd.read_html(url)\n",
    "df = tables[0]\n",
    "\n",
    "print(\"Перші рядки таблиці:\")\n",
    "print(df.head())\n",
    "\n",
    "print(\"\\nКількість рядків та стовпців у датафреймі:\")\n",
    "print(df.shape)\n",
    "\n",
    "df.replace('—', np.nan, inplace=True)\n",
    "\n",
    "print(\"\\nТипи всіх стовпців:\")\n",
    "print(df.dtypes)\n",
    "\n",
    "for column in df.columns[1:]:\n",
    "    df[column] = pd.to_numeric(df[column], errors='coerce')\n",
    "\n",
    "missing_percentage = df.isnull().sum() / df.shape[0] * 100\n",
    "print(\"\\nЧастка пропусків у кожній колонці:\")\n",
    "print(missing_percentage)\n",
    "\n",
    "df = df.iloc[:-1]\n",
    "\n",
    "df.fillna(df.mean(), inplace=True)\n",
    "\n",
    "average_2019 = df['2019'].mean()\n",
    "regions_above_average_2019 = df[df['2019'] > average_2019]['Регіон']\n",
    "print(\"\\nРегіони, де рівень народжуваності у 2019 році був вищим за середній по Україні:\")\n",
    "print(regions_above_average_2019)\n",
    "\n",
    "highest_birth_rate_2014 = df.loc[df['2014'].idxmax(), 'Регіон']\n",
    "print(\"\\nРегіон з найвищою народжуваністю у 2014 році:\")\n",
    "print(highest_birth_rate_2014)\n",
    "\n",
    "plt.figure(figsize=(10, 6))\n",
    "plt.bar(df['Регіон'], df['2019'])\n",
    "plt.xlabel('Регіон')\n",
    "plt.ylabel('Коефіцієнт народжуваності')\n",
    "plt.title('Коефіцієнт народжуваності по регіонах у 2019 році')\n",
    "plt.xticks(rotation=90)\n",
    "plt.tight_layout()\n",
    "plt.show()"
   ]
  }
 ],
 "metadata": {
  "language_info": {
   "name": "python"
  }
 },
 "nbformat": 4,
 "nbformat_minor": 2
}
