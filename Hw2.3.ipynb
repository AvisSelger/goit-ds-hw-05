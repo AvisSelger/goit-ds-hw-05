{
 "cells": [
  {
   "cell_type": "code",
   "execution_count": null,
   "metadata": {},
   "outputs": [],
   "source": [
    "import pandas as pd\n",
    "import matplotlib.pyplot as plt\n",
    "\n",
    "file_path = 'bestsellers_with_categories.csv'\n",
    "df = pd.read_csv(file_path)\n",
    "\n",
    "print(\"Перші п'ять рядків таблиці:\")\n",
    "print(df.head())\n",
    "\n",
    "print(\"\\nРозміри датасету:\")\n",
    "print(df.shape)\n"
   ]
  },
  {
   "cell_type": "code",
   "execution_count": null,
   "metadata": {},
   "outputs": [],
   "source": [
    "df.columns = ['name', 'author', 'user_rating', 'reviews', 'price', 'year', 'genre']\n",
    "print(\"\\nЗмінені назви колонок:\")\n",
    "print(df.columns)\n"
   ]
  },
  {
   "cell_type": "code",
   "execution_count": null,
   "metadata": {},
   "outputs": [],
   "source": [
    "missing_values = df.isna().sum()\n",
    "print(\"\\nКількість пропусків у кожному стовпці:\")\n",
    "print(missing_values)\n",
    "\n",
    "print(\"\\nУнікальні жанри:\")\n",
    "print(unique_genres)\n"
   ]
  },
  {
   "cell_type": "code",
   "execution_count": null,
   "metadata": {},
   "outputs": [],
   "source": [
    "df['price'].hist(bins=30)\n",
    "plt.xlabel('Price')\n",
    "plt.ylabel('Frequency')\n",
    "plt.title('Price Distribution')\n",
    "plt.show()\n",
    "\n",
    "max_price = df['price'].max()\n",
    "min_price = df['price'].min()\n",
    "mean_price = df['price'].mean()\n",
    "median_price = df['price'].median()\n",
    "\n",
    "print(\"\\nМаксимальна ціна:\", max_price)\n",
    "print(\"Мінімальна ціна:\", min_price)\n",
    "print(\"Середня ціна:\", mean_price)\n",
    "print(\"Медіанна ціна:\", median_price)\n"
   ]
  },
  {
   "cell_type": "code",
   "execution_count": null,
   "metadata": {},
   "outputs": [],
   "source": [
    "highest_rating = df['user_rating'].max()\n",
    "print(\"\\nНайвищий рейтинг у датасеті:\", highest_rating)\n",
    "\n",
    "num_books_highest_rating = df[df['user_rating'] == highest_rating].shape[0]\n",
    "print(\"Кількість книг з найвищим рейтингом:\", num_books_highest_rating)\n",
    "\n",
    "most_reviews_book = df[df['reviews'] == df['reviews'].max()]['name'].values[0]\n",
    "print(\"\\nКнига з найбільшою кількістю відгуків:\", most_reviews_book)\n",
    "\n",
    "most_expensive_2015 = df[df['year'] == 2015].sort_values('price', ascending=False).iloc[0]\n",
    "print(\"Найдорожча книга 2015 року:\", most_expensive_2015['name'])\n",
    "\n",
    "num_fiction_2010 = df[(df['genre'] == 'Fiction') & (df['year'] == 2010)].shape[0]\n",
    "print(\"Кількість книг жанру Fiction у 2010 році:\", num_fiction_2010)\n",
    "\n",
    "num_books_4_9 = df[(df['user_rating'] == 4.9) & (df['year'].isin([2010, 2011]))].shape[0]\n",
    "print(\"Кількість книг з рейтингом 4.9 у 2010 та 2011 роках:\", num_books_4_9)\n",
    "\n",
    "sorted_books_2015 = df[(df['year'] == 2015) & (df['price'] < 8)].sort_values('price')\n",
    "print(\"\\nОстання книга у відсортованому списку (2015 рік, ціна < 8 доларів):\")\n",
    "print(sorted_books_2015.tail(1)['name'].values[0])\n"
   ]
  },
  {
   "cell_type": "code",
   "execution_count": null,
   "metadata": {},
   "outputs": [],
   "source": [
    "genre_price_stats = df.groupby('genre')['price'].agg(['max', 'min']).reset_index()\n",
    "print(\"\\nЦіни для кожного жанру:\")\n",
    "print(genre_price_stats)\n",
    "\n",
    "max_price_fiction = genre_price_stats[genre_price_stats['genre'] == 'Fiction']['max'].values[0]\n",
    "print(\"Максимальна ціна для жанру Fiction:\", max_price_fiction)\n",
    "\n",
    "min_price_fiction = genre_price_stats[genre_price_stats['genre'] == 'Fiction']['min'].values[0]\n",
    "print(\"Мінімальна ціна для жанру Fiction:\", min_price_fiction)\n",
    "\n",
    "max_price_non_fiction = genre_price_stats[genre_price_stats['genre'] == 'Non Fiction']['max'].values[0]\n",
    "print(\"Максимальна ціна для жанру Non Fiction:\", max_price_non_fiction)\n",
    "\n",
    "min_price_non_fiction = genre_price_stats[genre_price_stats['genre'] == 'Non Fiction']['min'].values[0]\n",
    "print(\"Мінімальна ціна для жанру Non Fiction:\", min_price_non_fiction)\n",
    "\n",
    "author_book_count = df.groupby('author')['name'].count().reset_index()\n",
    "author_book_count.columns = ['author', 'book_count']\n",
    "print(\"\\nКількість книг для кожного автора:\")\n",
    "print(author_book_count)\n",
    "\n",
    "print(\"Розмірність таблиці author_book_count:\", author_book_count.shape)\n",
    "\n",
    "top_author = author_book_count[author_book_count['book_count'] == author_book_count['book_count'].max()]['author'].values[0]\n",
    "print(\"Автор з найбільшою кількістю книг:\", top_author)\n",
    "\n",
    "top_author_book_count = author_book_count[author_book_count['author'] == top_author]['book_count'].values[0]\n",
    "print(\"Кількість книг цього автора:\", top_author_book_count)\n",
    "\n",
    "author_avg_rating = df.groupby('author')['user_rating'].mean().reset_index()\n",
    "author_avg_rating.columns = ['author', 'avg_rating']\n",
    "print(\"\\nСередній рейтинг для кожного автора:\")\n",
    "print(author_avg_rating)\n",
    "\n",
    "min_avg_rating_author = author_avg_rating[author_avg_rating['avg_rating'] == author_avg_rating['avg_rating'].min()]['author'].values[0]\n",
    "print(\"Автор з мінімальним середнім рейтингом:\", min_avg_rating_author)\n",
    "\n",
    "min_avg_rating = author_avg_rating[author_avg_rating['author'] == min_avg_rating_author]['avg_rating'].values[0]\n",
    "print(\"Середній рейтинг цього автора:\", min_avg_rating)\n",
    "\n",
    "combined_df = pd.concat([author_book_count.set_index('author'), author_avg_rating.set_index('author')], axis=1).reset_index()\n",
    "print(\"\\nОб'єднаний датафрейм:\")\n",
    "print(combined_df)\n",
    "\n",
    "sorted_combined_df = combined_df.sort_values(by=['book_count', 'avg_rating'])\n",
    "print(\"\\nВідсортований об'єднаний датафрейм:\")\n",
    "print(sorted_combined_df)\n",
    "\n",
    "first_author = sorted_combined_df.iloc[0]['author']\n",
    "print(\"Перший автор у списку:\", first_author)\n"
   ]
  }
 ],
 "metadata": {
  "language_info": {
   "name": "python"
  }
 },
 "nbformat": 4,
 "nbformat_minor": 2
}
